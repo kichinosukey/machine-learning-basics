{
 "cells": [
  {
   "cell_type": "markdown",
   "id": "26232948",
   "metadata": {},
   "source": [
    "# 1. Single variable"
   ]
  },
  {
   "cell_type": "markdown",
   "id": "51e47fad",
   "metadata": {},
   "source": [
    "## Import modules"
   ]
  },
  {
   "cell_type": "code",
   "execution_count": null,
   "id": "6a655fbc",
   "metadata": {},
   "outputs": [],
   "source": [
    "import sys\n",
    "sys.path.append('../')\n",
    "\n",
    "import numpy as np\n",
    "import pandas as pd\n",
    "import matplotlib.pyplot as plt"
   ]
  },
  {
   "cell_type": "markdown",
   "id": "739c1b4f",
   "metadata": {},
   "source": [
    "## Load data"
   ]
  },
  {
   "cell_type": "code",
   "execution_count": null,
   "id": "89fe503b",
   "metadata": {},
   "outputs": [],
   "source": [
    "data = pd.read_csv('wdbc.data', delim_whitespace=False, header=None, index_col=0)\n",
    "base_columns = ['label', 'radius', 'texture', 'perimeter', 'area', 'smoothness', 'compactness', 'concavity', 'concave_points', 'symmetry', 'fractal_dimension']\n",
    "label_columns = ['_mean', '_stderr', '_worst']\n",
    "columns = list(data.columns)\n",
    "for i, col in enumerate(base_columns):\n",
    "    if i > 0:\n",
    "        columns[i] = col + label_columns[0]\n",
    "        columns[i+10] = col + label_columns[1]\n",
    "        columns[i+20] = col + label_columns[2]\n",
    "    else:\n",
    "        columns[i] = col\n",
    "data.columns = columns"
   ]
  },
  {
   "cell_type": "markdown",
   "id": "d9f3be0a",
   "metadata": {},
   "source": [
    "## Plot"
   ]
  },
  {
   "cell_type": "code",
   "execution_count": null,
   "id": "0a5ea81f",
   "metadata": {},
   "outputs": [],
   "source": [
    "ax = plt.subplot()\n",
    "\n",
    "## 0/Not admitted\n",
    "data0 = data.query('label == \"B\"')\n",
    "ax.scatter(data0['radius_mean'], data0['texture_mean'], s=30, color=\"blue\", ec=\"k\", label=\"Benign\")\n",
    "\n",
    "## 1/admitted\n",
    "data1 = data.query('label == \"M\"')\n",
    "ax.scatter(data1['radius_mean'], data1['texture_mean'], color=\"yellow\", marker='*', ec='k', label=\"Malicious\")\n",
    "\n",
    "plt.legend()\n",
    "plt.show()"
   ]
  },
  {
   "cell_type": "markdown",
   "id": "98b39dda",
   "metadata": {},
   "source": [
    "## 課題1. Compute cost function"
   ]
  },
  {
   "cell_type": "markdown",
   "id": "fefcad9d",
   "metadata": {},
   "source": [
    "### ※YOUR CODE IS HERE"
   ]
  },
  {
   "cell_type": "code",
   "execution_count": null,
   "id": "443da8c5",
   "metadata": {},
   "outputs": [],
   "source": [
    "X = data[['radius_mean']].values\n",
    "y = data['label'].replace({'B':0, 'M':1}).values\n",
    "\n",
    "m, n= X.shape\n",
    "\n",
    "X_ = (np.c_[np.ones(m), X])\n",
    "y_ = y.reshape(m, 1)\n",
    "\n",
    "theta = np.zeros((n+1, 1))\n",
    "\n",
    "J, grad= lrCostFunction(X_, y_, theta)\n",
    "print('Testing cost function: %.2f' % J)"
   ]
  },
  {
   "cell_type": "markdown",
   "id": "653def8f",
   "metadata": {},
   "source": [
    "Your cost function will be below.\n",
    "\n",
    "```\n",
    "Testing cost function: 296.07\n",
    "Testing cost function: 186.72\n",
    "```"
   ]
  },
  {
   "cell_type": "markdown",
   "id": "defe9e02",
   "metadata": {},
   "source": [
    "## 課題2. Gradient Descent"
   ]
  },
  {
   "cell_type": "markdown",
   "id": "f7acc329",
   "metadata": {},
   "source": [
    "### ※YOUR CODE IS HERE"
   ]
  },
  {
   "cell_type": "code",
   "execution_count": null,
   "id": "64405c73",
   "metadata": {
    "scrolled": true
   },
   "outputs": [],
   "source": [
    "iterations = 1500\n",
    "alpha = 0.01\n",
    "theta_min, j_hist = gradientDescent(X_, y_, theta, alpha, iterations)\n",
    "print('Theta min: \\n', theta_min)\n",
    "print('Cost min: %.3f' % j_hist[-1])"
   ]
  },
  {
   "cell_type": "markdown",
   "id": "85ff1db9",
   "metadata": {},
   "source": [
    "### Discussion\n",
    "\n",
    "- このような結果をもたらした原因について考察しよう\n",
    "- 例えば今回の計算結果の意味は以下のように解釈できる"
   ]
  },
  {
   "cell_type": "code",
   "execution_count": null,
   "id": "3420b7d0",
   "metadata": {
    "scrolled": true
   },
   "outputs": [],
   "source": [
    "def predict(X, theta):\n",
    "    yhat = sigmoid(np.dot(X, theta))\n",
    "    return np.where(yhat > 0.5, 1, 0)\n",
    "    \n",
    "y_predict = predict(X_, theta_min)\n",
    "n_hits = (y == y_predict[0]).sum()\n",
    "print(\"Accuracy: %d / %d = %.1f[%%]\" % (n_hits, m, n_hits/m*100))"
   ]
  },
  {
   "cell_type": "code",
   "execution_count": null,
   "id": "dbc49c6d",
   "metadata": {},
   "outputs": [],
   "source": [
    "print(\"Positive count: %d\" % (y == 1).sum())\n",
    "print(\"Negative count: %d\" % (y == 0).sum())"
   ]
  },
  {
   "cell_type": "markdown",
   "id": "eef12a1f",
   "metadata": {},
   "source": [
    "- このモデルがやっていることは「全て陰性である」という判断を下しているだけに過ぎない\n",
    "- こんなモデルに果たして意味があるのだろうか？"
   ]
  },
  {
   "cell_type": "markdown",
   "id": "c24dc2fe",
   "metadata": {},
   "source": [
    "## 課題3. Newton optimization（Optional）"
   ]
  },
  {
   "cell_type": "markdown",
   "id": "0388e5fe",
   "metadata": {},
   "source": [
    "### ※YOUR CODE IS HERE"
   ]
  },
  {
   "cell_type": "code",
   "execution_count": null,
   "id": "db61aba3",
   "metadata": {},
   "outputs": [],
   "source": [
    "theta = np.zeros(n+1)\n",
    "Xtil = np.c_[np.ones(m), X]\n",
    "theta_min, J_min = newtonOptimize(Xtil, y, theta, max_iter=150)\n",
    "print('Theta min: \\n', theta_min)\n",
    "print('Cost min: %.3f' % J_min)"
   ]
  },
  {
   "cell_type": "code",
   "execution_count": null,
   "id": "50116ed8",
   "metadata": {},
   "outputs": [],
   "source": [
    "y_predict = predict(Xtil, theta_min)\n",
    "n_hits = (y == y_predict).sum()\n",
    "print(\"Accuracy: %d / %d = %.1f[%%]\" % (n_hits, m, n_hits/m*100))"
   ]
  },
  {
   "cell_type": "code",
   "execution_count": null,
   "id": "7e29504b",
   "metadata": {},
   "outputs": [],
   "source": [
    "theta_hist, J_hist = newtonOptimize(Xtil, y, theta, max_iter=10, hist=True)\n",
    "\n",
    "theta0_hist = [t[0] for t in theta_hist]\n",
    "theta1_hist = [t[1] for t in theta_hist]\n",
    "\n",
    "fig = plt.figure()\n",
    "ax = plt.subplot()\n",
    "ax.plot(theta0_hist, J_hist)\n",
    "for i, j in enumerate(J_hist):\n",
    "    ax.text(theta0_hist[i], j, s=i, fontsize=10)\n",
    "\n",
    "ax.plot(theta1_hist, J_hist)\n",
    "for i, j in enumerate(J_hist):\n",
    "    ax.text(theta1_hist[i], j, s=i)\n",
    "plt.show()"
   ]
  },
  {
   "cell_type": "markdown",
   "id": "aa0c5faa",
   "metadata": {},
   "source": [
    "### ※END, back to ex2"
   ]
  },
  {
   "cell_type": "markdown",
   "id": "88450416",
   "metadata": {},
   "source": [
    "## 課題4. Gradient descent with feature normalize"
   ]
  },
  {
   "cell_type": "code",
   "execution_count": null,
   "id": "6325a97b",
   "metadata": {},
   "outputs": [],
   "source": [
    "X_norm = featureNormalize(X)\n",
    "X_ = (np.c_[np.ones(m), X_norm])"
   ]
  },
  {
   "cell_type": "code",
   "execution_count": null,
   "id": "284b50f0",
   "metadata": {},
   "outputs": [],
   "source": [
    "m = len(X)\n",
    "theta = np.zeros((n+1, 1))\n",
    "iterations = 1500\n",
    "alpha = 0.01\n",
    "theta_min, j_hist = gradientDescent(X_, y_, theta, alpha, iterations)\n",
    "print('Theta min: \\n', theta_min)\n",
    "print('Cost min: %.3f' % j_hist[-1])"
   ]
  },
  {
   "cell_type": "code",
   "execution_count": null,
   "id": "c5a09ec4",
   "metadata": {},
   "outputs": [],
   "source": [
    "y_predict = predict(X_, theta_min)\n",
    "n_hits = (y == y_predict.ravel()).sum()\n",
    "print(\"Accuracy: %d / %d = %.1f[%%]\" % (n_hits, m, n_hits/m*100))"
   ]
  },
  {
   "cell_type": "markdown",
   "id": "29912efb",
   "metadata": {},
   "source": [
    "- まともになってきたのでは？"
   ]
  },
  {
   "cell_type": "markdown",
   "id": "d7db6c4b",
   "metadata": {},
   "source": [
    "## 課題5. Newton Optimize with feature normalize"
   ]
  },
  {
   "cell_type": "code",
   "execution_count": null,
   "id": "98db6bc0",
   "metadata": {},
   "outputs": [],
   "source": [
    "theta = np.zeros(n+1)\n",
    "X_norm = featureNormalize(X)\n",
    "Xtil = np.c_[np.ones(m), X_norm]\n",
    "theta_min, J_min = newtonOptimize(Xtil, y, theta, max_iter=150)\n",
    "print('Theta min: \\n', theta_min)\n",
    "print('Cost min: %.3f' % J_min)"
   ]
  },
  {
   "cell_type": "code",
   "execution_count": null,
   "id": "90adc390",
   "metadata": {},
   "outputs": [],
   "source": [
    "y_predict = predict(Xtil, theta_min)\n",
    "n_hits = (y == y_predict).sum()\n",
    "print(\"Accuracy: %d / %d = %.1f[%%]\" % (n_hits, m, n_hits/m*100))"
   ]
  },
  {
   "cell_type": "markdown",
   "id": "9a8096d2",
   "metadata": {},
   "source": [
    "- 多少なりとも結果がロバストになってきた？"
   ]
  },
  {
   "cell_type": "markdown",
   "id": "c13a6631",
   "metadata": {},
   "source": [
    "## 課題6. Advanced Optimize"
   ]
  },
  {
   "cell_type": "code",
   "execution_count": null,
   "id": "a6eff126",
   "metadata": {
    "scrolled": true
   },
   "outputs": [],
   "source": [
    "from scipy.optimize import minimize\n",
    "\n",
    "def lrCostFunctionOpt(theta, X, y):\n",
    "    m = X.shape[0]\n",
    "    h = sigmoid(np.dot(X, theta))\n",
    "    return 1/m*(-np.sum(y*np.log(h) + (1-y)*(np.log(1-h))))\n",
    "\n",
    "theta = np.zeros(n+1)\n",
    "X_norm = featureNormalize(X)\n",
    "Xtil = np.c_[np.ones(m), X_norm]\n",
    "\n",
    "theta_min = minimize(lrCostFunctionOpt, theta, args=(Xtil, y)).x"
   ]
  },
  {
   "cell_type": "code",
   "execution_count": null,
   "id": "b0b3e430",
   "metadata": {},
   "outputs": [],
   "source": [
    "y_predict = predict(Xtil, theta_min)\n",
    "n_hits = (y == y_predict).sum()\n",
    "print(\"Accuracy: %d / %d = %.1f[%%]\" % (n_hits, m, n_hits/m*100))"
   ]
  },
  {
   "cell_type": "markdown",
   "id": "f4647621",
   "metadata": {},
   "source": [
    "# Multi variables"
   ]
  },
  {
   "cell_type": "code",
   "execution_count": null,
   "id": "42b0927c",
   "metadata": {
    "scrolled": true
   },
   "outputs": [],
   "source": [
    "X = data[['radius_mean', 'texture_mean']].values\n",
    "y = data['label'].replace({'B':0, 'M':1}).values\n",
    "\n",
    "m, n = X.shape\n",
    "\n",
    "X_ = np.c_[np.ones(m), X]\n",
    "y_ = y.reshape(m, 1)\n",
    "\n",
    "theta = np.zeros((n+1, 1))"
   ]
  },
  {
   "cell_type": "markdown",
   "id": "96edc9fc",
   "metadata": {},
   "source": [
    "## Gradient Descent with multi variables"
   ]
  },
  {
   "cell_type": "code",
   "execution_count": null,
   "id": "c973bca1",
   "metadata": {},
   "outputs": [],
   "source": [
    "X = featureNormalize(X)\n",
    "X_ = np.hstack((np.ones((len(X), 1)), X))\n",
    "theta = np.zeros((3, 1))\n",
    "iterations = 1500\n",
    "alpha = 0.01\n",
    "theta_min, j_hist = gradientDescent(X_, y_, theta, alpha, iterations)\n",
    "print('Theta min: \\n', theta_min)\n",
    "print('Cost min: %.3f' % j_hist[-1])"
   ]
  },
  {
   "cell_type": "code",
   "execution_count": null,
   "id": "49cfefdf",
   "metadata": {},
   "outputs": [],
   "source": [
    "y_predict = predict(X_, theta_min)\n",
    "n_hits = (y == y_predict.ravel()).sum()\n",
    "print(\"Accuracy: %d / %d = %.1f[%%]\" % (n_hits, m, n_hits/m*100))"
   ]
  },
  {
   "cell_type": "markdown",
   "id": "e73289b9",
   "metadata": {},
   "source": [
    "## Newton Optimize with multi variables"
   ]
  },
  {
   "cell_type": "code",
   "execution_count": null,
   "id": "c36298d9",
   "metadata": {},
   "outputs": [],
   "source": [
    "theta = np.zeros(n+1)\n",
    "X_norm = featureNormalize(X)\n",
    "Xtil = np.c_[np.ones(m), X_norm]\n",
    "theta_min, J_min = newtonOptimize(Xtil, y, theta, max_iter=150)\n",
    "print('Theta min: \\n', theta_min)\n",
    "print('Cost min: %.3f' % J_min)"
   ]
  },
  {
   "cell_type": "code",
   "execution_count": null,
   "id": "c758aedf",
   "metadata": {},
   "outputs": [],
   "source": [
    "y_predict = predict(Xtil, theta_min)\n",
    "n_hits = (y == y_predict).sum()\n",
    "print(\"Accuracy: %d / %d = %.1f[%%]\" % (n_hits, m, n_hits/m*100))"
   ]
  },
  {
   "cell_type": "markdown",
   "id": "97bbc49f",
   "metadata": {},
   "source": [
    "## Advanced Optimize"
   ]
  },
  {
   "cell_type": "code",
   "execution_count": null,
   "id": "e99cd4ea",
   "metadata": {},
   "outputs": [],
   "source": [
    "theta = np.zeros(n+1)\n",
    "X_norm = featureNormalize(X)\n",
    "Xtil = np.c_[np.ones(m), X_norm]\n",
    "theta_min = minimize(lrCostFunctionOpt, theta, args=(Xtil, y)).x"
   ]
  },
  {
   "cell_type": "code",
   "execution_count": null,
   "id": "321c396e",
   "metadata": {},
   "outputs": [],
   "source": [
    "y_predict = predict(Xtil, theta_min)\n",
    "n_hits = (y == y_predict).sum()\n",
    "print(\"Accuracy: %d / %d = %.1f[%%]\" % (n_hits, m, n_hits/m*100))"
   ]
  }
 ],
 "metadata": {
  "kernelspec": {
   "display_name": "Python 3 (ipykernel)",
   "language": "python",
   "name": "python3"
  },
  "language_info": {
   "codemirror_mode": {
    "name": "ipython",
    "version": 3
   },
   "file_extension": ".py",
   "mimetype": "text/x-python",
   "name": "python",
   "nbconvert_exporter": "python",
   "pygments_lexer": "ipython3",
   "version": "3.8.2"
  }
 },
 "nbformat": 4,
 "nbformat_minor": 5
}
