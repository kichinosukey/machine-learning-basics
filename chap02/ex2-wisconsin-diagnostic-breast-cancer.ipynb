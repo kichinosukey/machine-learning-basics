{
 "cells": [
  {
   "cell_type": "markdown",
   "id": "26232948",
   "metadata": {},
   "source": [
    "# 1. Single variable"
   ]
  },
  {
   "cell_type": "markdown",
   "id": "51e47fad",
   "metadata": {},
   "source": [
    "## Import modules"
   ]
  },
  {
   "cell_type": "code",
   "execution_count": 9,
   "id": "6a655fbc",
   "metadata": {},
   "outputs": [],
   "source": [
    "import sys\n",
    "sys.path.append('../')\n",
    "\n",
    "import numpy as np\n",
    "import pandas as pd\n",
    "import matplotlib.pyplot as plt\n",
    "\n",
    "from lib import lrCostFunction, gradientDescent, newtonOptimize, sigmoid\n",
    "from chap01.lib import featureNormalize"
   ]
  },
  {
   "cell_type": "markdown",
   "id": "739c1b4f",
   "metadata": {},
   "source": [
    "## Load data"
   ]
  },
  {
   "cell_type": "code",
   "execution_count": 10,
   "id": "89fe503b",
   "metadata": {},
   "outputs": [],
   "source": [
    "data = pd.read_csv('wdbc.data', delim_whitespace=False, header=None, index_col=0)\n",
    "base_columns = ['label', 'radius', 'texture', 'perimeter', 'area', 'smoothness', 'compactness', 'concavity', 'concave_points', 'symmetry', 'fractal_dimension']\n",
    "label_columns = ['_mean', '_stderr', '_worst']\n",
    "columns = list(data.columns)\n",
    "for i, col in enumerate(base_columns):\n",
    "    if i > 0:\n",
    "        columns[i] = col + label_columns[0]\n",
    "        columns[i+10] = col + label_columns[1]\n",
    "        columns[i+20] = col + label_columns[2]\n",
    "    else:\n",
    "        columns[i] = col\n",
    "data.columns = columns"
   ]
  },
  {
   "cell_type": "markdown",
   "id": "d9f3be0a",
   "metadata": {},
   "source": [
    "## Plot"
   ]
  },
  {
   "cell_type": "code",
   "execution_count": 11,
   "id": "0a5ea81f",
   "metadata": {},
   "outputs": [
    {
     "data": {
      "image/png": "[encoded data removed]",
      "text/plain": [
       "<Figure size 432x288 with 1 Axes>"
      ]
     },
     "metadata": {
      "needs_background": "light"
     },
     "output_type": "display_data"
    }
   ],
   "source": [
    "ax = plt.subplot()\n",
    "\n",
    "## 0/Not admitted\n",
    "data0 = data.query('label == \"B\"')\n",
    "ax.scatter(data0['radius_mean'], data0['texture_mean'], s=30, color=\"blue\", ec=\"k\", label=\"Benign\")\n",
    "\n",
    "## 1/admitted\n",
    "data1 = data.query('label == \"M\"')\n",
    "ax.scatter(data1['radius_mean'], data1['texture_mean'], color=\"yellow\", marker='*', ec='k', label=\"Malicious\")\n",
    "\n",
    "plt.legend()\n",
    "plt.show()"
   ]
  },
  {
   "cell_type": "markdown",
   "id": "98b39dda",
   "metadata": {},
   "source": [
    "## 課題1. Compute cost function"
   ]
  },
  {
   "cell_type": "markdown",
   "id": "fefcad9d",
   "metadata": {},
   "source": [
    "### ※YOUR CODE IS HERE"
   ]
  },
  {
   "cell_type": "code",
   "execution_count": 12,
   "id": "443da8c5",
   "metadata": {},
   "outputs": [
    {
     "name": "stdout",
     "output_type": "stream",
     "text": [
      "Testing cost function: 0.69\n"
     ]
    }
   ],
   "source": [
    "X = data[['radius_mean']].values\n",
    "y = data['label'].replace({'B':0, 'M':1}).values\n",
    "\n",
    "m, n= X.shape\n",
    "\n",
    "X_ = (np.c_[np.ones(m), X])\n",
    "y_ = y.reshape(m, 1)\n",
    "\n",
    "theta = np.zeros((n+1, 1))\n",
    "\n",
    "J, grad= lrCostFunction(X_, y_, theta)\n",
    "print('Testing cost function: %.2f' % J)"
   ]
  },
  {
   "cell_type": "markdown",
   "id": "653def8f",
   "metadata": {},
   "source": [
    "Your cost function will be below.\n",
    "\n",
    "```\n",
    "Testing cost function: 0.69\n",
    "```"
   ]
  },
  {
   "cell_type": "markdown",
   "id": "defe9e02",
   "metadata": {},
   "source": [
    "## 課題2. Gradient Descent"
   ]
  },
  {
   "cell_type": "markdown",
   "id": "f7acc329",
   "metadata": {},
   "source": [
    "### ※YOUR CODE IS HERE"
   ]
  },
  {
   "cell_type": "code",
   "execution_count": 13,
   "id": "64405c73",
   "metadata": {
    "scrolled": true
   },
   "outputs": [
    {
     "name": "stdout",
     "output_type": "stream",
     "text": [
      "Theta min: \n",
      " [[-1.21313194]\n",
      " [ 0.0701134 ]]\n",
      "Cost min: 0.591\n"
     ]
    }
   ],
   "source": [
    "iterations = 1500\n",
    "alpha = 0.01\n",
    "theta_min, j_hist = gradientDescent(X_, y_, theta, alpha, iterations)\n",
    "print('Theta min: \\n', theta_min)\n",
    "print('Cost min: %.3f' % j_hist[-1])"
   ]
  },
  {
   "cell_type": "markdown",
   "id": "85ff1db9",
   "metadata": {},
   "source": [
    "### Discussion\n",
    "\n",
    "- 以下のコードを実行してその結果をもたらした原因について考察しよう"
   ]
  },
  {
   "cell_type": "code",
   "execution_count": 14,
   "id": "3420b7d0",
   "metadata": {
    "scrolled": true
   },
   "outputs": [
    {
     "name": "stdout",
     "output_type": "stream",
     "text": [
      "Accuracy: 212 / 569 = 37.3[%]\n"
     ]
    }
   ],
   "source": [
    "def predict(X, theta):\n",
    "    yhat = sigmoid(np.dot(X, theta))\n",
    "    return np.where(yhat > 0.5, 1, 0)\n",
    "    \n",
    "y_predict = predict(X_, theta_min)\n",
    "n_hits = (y == y_predict[0]).sum()\n",
    "print(\"Accuracy: %d / %d = %.1f[%%]\" % (n_hits, m, n_hits/m*100))"
   ]
  },
  {
   "cell_type": "code",
   "execution_count": 15,
   "id": "dbc49c6d",
   "metadata": {},
   "outputs": [
    {
     "name": "stdout",
     "output_type": "stream",
     "text": [
      "Positive count: 212\n",
      "Negative count: 357\n"
     ]
    }
   ],
   "source": [
    "print(\"Positive count: %d\" % (y == 1).sum())\n",
    "print(\"Negative count: %d\" % (y == 0).sum())"
   ]
  },
  {
   "cell_type": "markdown",
   "id": "eef12a1f",
   "metadata": {},
   "source": [
    "- このモデルがやっていることは「全て陰性である」という判断を下しているだけに過ぎない\n",
    "- こんなモデルに果たして意味があるのだろうか？"
   ]
  },
  {
   "cell_type": "markdown",
   "id": "c24dc2fe",
   "metadata": {},
   "source": [
    "## 課題3. Newton optimization（Optional）"
   ]
  },
  {
   "cell_type": "markdown",
   "id": "0388e5fe",
   "metadata": {},
   "source": [
    "### ※YOUR CODE IS HERE"
   ]
  },
  {
   "cell_type": "code",
   "execution_count": 16,
   "id": "db61aba3",
   "metadata": {},
   "outputs": [
    {
     "name": "stdout",
     "output_type": "stream",
     "text": [
      "Theta min: \n",
      " [-15.24587078   1.03358882]\n",
      "Cost min: 0.290\n"
     ]
    }
   ],
   "source": [
    "theta = np.zeros(n+1)\n",
    "Xtil = np.c_[np.ones(m), X]\n",
    "theta_min, J_min = newtonOptimize(Xtil, y, theta, max_iter=150)\n",
    "print('Theta min: \\n', theta_min)\n",
    "print('Cost min: %.3f' % J_min)"
   ]
  },
  {
   "cell_type": "code",
   "execution_count": 17,
   "id": "50116ed8",
   "metadata": {},
   "outputs": [
    {
     "name": "stdout",
     "output_type": "stream",
     "text": [
      "Accuracy: 500 / 569 = 87.9[%]\n"
     ]
    }
   ],
   "source": [
    "y_predict = predict(Xtil, theta_min)\n",
    "n_hits = (y == y_predict).sum()\n",
    "print(\"Accuracy: %d / %d = %.1f[%%]\" % (n_hits, m, n_hits/m*100))"
   ]
  },
  {
   "cell_type": "markdown",
   "id": "aa0c5faa",
   "metadata": {},
   "source": [
    "### ※END, 一旦chapter02に戻る"
   ]
  },
  {
   "cell_type": "markdown",
   "id": "88450416",
   "metadata": {},
   "source": [
    "## 課題4. Gradient descent with feature normalize"
   ]
  },
  {
   "cell_type": "code",
   "execution_count": 18,
   "id": "6325a97b",
   "metadata": {},
   "outputs": [],
   "source": [
    "X_norm = featureNormalize(X)\n",
    "X_ = (np.c_[np.ones(m), X_norm])"
   ]
  },
  {
   "cell_type": "code",
   "execution_count": 19,
   "id": "284b50f0",
   "metadata": {},
   "outputs": [
    {
     "name": "stdout",
     "output_type": "stream",
     "text": [
      "Theta min: \n",
      " [[-0.56630289]\n",
      " [ 1.93763591]]\n",
      "Cost min: 0.328\n"
     ]
    }
   ],
   "source": [
    "m = len(X)\n",
    "theta = np.zeros((n+1, 1))\n",
    "iterations = 1500\n",
    "alpha = 0.01\n",
    "theta_min, j_hist = gradientDescent(X_, y_, theta, alpha, iterations)\n",
    "print('Theta min: \\n', theta_min)\n",
    "print('Cost min: %.3f' % j_hist[-1])"
   ]
  },
  {
   "cell_type": "code",
   "execution_count": 20,
   "id": "c5a09ec4",
   "metadata": {},
   "outputs": [
    {
     "name": "stdout",
     "output_type": "stream",
     "text": [
      "Accuracy: 502 / 569 = 88.2[%]\n"
     ]
    }
   ],
   "source": [
    "y_predict = predict(X_, theta_min)\n",
    "n_hits = (y == y_predict.ravel()).sum()\n",
    "print(\"Accuracy: %d / %d = %.1f[%%]\" % (n_hits, m, n_hits/m*100))"
   ]
  },
  {
   "cell_type": "markdown",
   "id": "29912efb",
   "metadata": {},
   "source": [
    "- まともになってきたのでは？"
   ]
  },
  {
   "cell_type": "markdown",
   "id": "d7db6c4b",
   "metadata": {},
   "source": [
    "## 課題5. Newton Optimize with feature normalize"
   ]
  },
  {
   "cell_type": "code",
   "execution_count": 21,
   "id": "98db6bc0",
   "metadata": {},
   "outputs": [
    {
     "name": "stdout",
     "output_type": "stream",
     "text": [
      "Theta min: \n",
      " [-0.64405995  3.64241747]\n",
      "Cost min: 0.290\n"
     ]
    }
   ],
   "source": [
    "theta = np.zeros(n+1)\n",
    "X_norm = featureNormalize(X)\n",
    "Xtil = np.c_[np.ones(m), X_norm]\n",
    "theta_min, J_min = newtonOptimize(Xtil, y, theta, max_iter=150)\n",
    "print('Theta min: \\n', theta_min)\n",
    "print('Cost min: %.3f' % J_min)"
   ]
  },
  {
   "cell_type": "code",
   "execution_count": 22,
   "id": "90adc390",
   "metadata": {},
   "outputs": [
    {
     "name": "stdout",
     "output_type": "stream",
     "text": [
      "Accuracy: 500 / 569 = 87.9[%]\n"
     ]
    }
   ],
   "source": [
    "y_predict = predict(Xtil, theta_min)\n",
    "n_hits = (y == y_predict).sum()\n",
    "print(\"Accuracy: %d / %d = %.1f[%%]\" % (n_hits, m, n_hits/m*100))"
   ]
  },
  {
   "cell_type": "markdown",
   "id": "9a8096d2",
   "metadata": {},
   "source": [
    "- 多少なりとも結果がロバストになってきた？"
   ]
  },
  {
   "cell_type": "markdown",
   "id": "c13a6631",
   "metadata": {},
   "source": [
    "## 課題6. Advanced Optimize"
   ]
  },
  {
   "cell_type": "code",
   "execution_count": 25,
   "id": "a6eff126",
   "metadata": {
    "scrolled": true
   },
   "outputs": [
    {
     "ename": "ModuleNotFoundError",
     "evalue": "No module named 'scipy'",
     "output_type": "error",
     "traceback": [
      "\u001b[0;31m---------------------------------------------------------------------------\u001b[0m",
      "\u001b[0;31mModuleNotFoundError\u001b[0m                       Traceback (most recent call last)",
      "\u001b[0;32m/var/folders/_3/z_6xxvm106j1hts2fh46y2d40000gn/T/ipykernel_52541/2270345484.py\u001b[0m in \u001b[0;36m<module>\u001b[0;34m\u001b[0m\n\u001b[0;32m----> 1\u001b[0;31m \u001b[0;32mfrom\u001b[0m \u001b[0mscipy\u001b[0m\u001b[0;34m.\u001b[0m\u001b[0moptimize\u001b[0m \u001b[0;32mimport\u001b[0m \u001b[0mminimize\u001b[0m\u001b[0;34m\u001b[0m\u001b[0;34m\u001b[0m\u001b[0m\n\u001b[0m\u001b[1;32m      2\u001b[0m \u001b[0;34m\u001b[0m\u001b[0m\n\u001b[1;32m      3\u001b[0m \u001b[0;32mdef\u001b[0m \u001b[0mlrCostFunctionOpt\u001b[0m\u001b[0;34m(\u001b[0m\u001b[0mtheta\u001b[0m\u001b[0;34m,\u001b[0m \u001b[0mX\u001b[0m\u001b[0;34m,\u001b[0m \u001b[0my\u001b[0m\u001b[0;34m)\u001b[0m\u001b[0;34m:\u001b[0m\u001b[0;34m\u001b[0m\u001b[0;34m\u001b[0m\u001b[0m\n\u001b[1;32m      4\u001b[0m     \u001b[0mm\u001b[0m \u001b[0;34m=\u001b[0m \u001b[0mX\u001b[0m\u001b[0;34m.\u001b[0m\u001b[0mshape\u001b[0m\u001b[0;34m[\u001b[0m\u001b[0;36m0\u001b[0m\u001b[0;34m]\u001b[0m\u001b[0;34m\u001b[0m\u001b[0;34m\u001b[0m\u001b[0m\n\u001b[1;32m      5\u001b[0m     \u001b[0mh\u001b[0m \u001b[0;34m=\u001b[0m \u001b[0msigmoid\u001b[0m\u001b[0;34m(\u001b[0m\u001b[0mnp\u001b[0m\u001b[0;34m.\u001b[0m\u001b[0mdot\u001b[0m\u001b[0;34m(\u001b[0m\u001b[0mX\u001b[0m\u001b[0;34m,\u001b[0m \u001b[0mtheta\u001b[0m\u001b[0;34m)\u001b[0m\u001b[0;34m)\u001b[0m\u001b[0;34m\u001b[0m\u001b[0;34m\u001b[0m\u001b[0m\n",
      "\u001b[0;31mModuleNotFoundError\u001b[0m: No module named 'scipy'"
     ]
    }
   ],
   "source": [
    "from scipy.optimize import minimize\n",
    "\n",
    "def lrCostFunctionOpt(theta, X, y):\n",
    "    m = X.shape[0]\n",
    "    h = sigmoid(np.dot(X, theta))\n",
    "    return 1/m*(-np.sum(y*np.log(h) + (1-y)*(np.log(1-h))))\n",
    "\n",
    "theta = np.zeros(n+1)\n",
    "X_norm = featureNormalize(X)\n",
    "Xtil = np.c_[np.ones(m), X_norm]\n",
    "\n",
    "theta_min = minimize(lrCostFunctionOpt, theta, args=(Xtil, y)).x"
   ]
  },
  {
   "cell_type": "code",
   "execution_count": 26,
   "id": "b0b3e430",
   "metadata": {},
   "outputs": [
    {
     "name": "stdout",
     "output_type": "stream",
     "text": [
      "Accuracy: 500 / 569 = 87.9[%]\n"
     ]
    }
   ],
   "source": [
    "y_predict = predict(Xtil, theta_min)\n",
    "n_hits = (y == y_predict).sum()\n",
    "print(\"Accuracy: %d / %d = %.1f[%%]\" % (n_hits, m, n_hits/m*100))"
   ]
  },
  {
   "cell_type": "markdown",
   "id": "f4647621",
   "metadata": {},
   "source": [
    "# Multi variables"
   ]
  },
  {
   "cell_type": "code",
   "execution_count": 27,
   "id": "42b0927c",
   "metadata": {
    "scrolled": true
   },
   "outputs": [],
   "source": [
    "X = data[['radius_mean', 'texture_mean']].values\n",
    "y = data['label'].replace({'B':0, 'M':1}).values\n",
    "\n",
    "m, n = X.shape\n",
    "\n",
    "X_ = np.c_[np.ones(m), X]\n",
    "y_ = y.reshape(m, 1)\n",
    "\n",
    "theta = np.zeros((n+1, 1))"
   ]
  },
  {
   "cell_type": "markdown",
   "id": "96edc9fc",
   "metadata": {},
   "source": [
    "## Gradient Descent with multi variables"
   ]
  },
  {
   "cell_type": "code",
   "execution_count": 28,
   "id": "c973bca1",
   "metadata": {},
   "outputs": [
    {
     "name": "stdout",
     "output_type": "stream",
     "text": [
      "Theta min: \n",
      " [[-0.14950953]\n",
      " [ 1.85694013]\n",
      " [ 0.76557197]]\n",
      "Cost min: 0.328\n"
     ]
    }
   ],
   "source": [
    "X = featureNormalize(X)\n",
    "X_ = np.hstack((np.ones((len(X), 1)), X))\n",
    "theta = np.zeros((3, 1))\n",
    "iterations = 1500\n",
    "alpha = 0.01\n",
    "theta_min, j_hist = gradientDescent(X_, y_, theta, alpha, iterations)\n",
    "print('Theta min: \\n', theta_min)\n",
    "print('Cost min: %.3f' % j_hist[-1])"
   ]
  },
  {
   "cell_type": "code",
   "execution_count": 29,
   "id": "49cfefdf",
   "metadata": {},
   "outputs": [
    {
     "name": "stdout",
     "output_type": "stream",
     "text": [
      "Accuracy: 492 / 569 = 86.5[%]\n"
     ]
    }
   ],
   "source": [
    "y_predict = predict(X_, theta_min)\n",
    "n_hits = (y == y_predict.ravel()).sum()\n",
    "print(\"Accuracy: %d / %d = %.1f[%%]\" % (n_hits, m, n_hits/m*100))"
   ]
  },
  {
   "cell_type": "markdown",
   "id": "e73289b9",
   "metadata": {},
   "source": [
    "## Newton Optimize with multi variables"
   ]
  },
  {
   "cell_type": "code",
   "execution_count": 30,
   "id": "c36298d9",
   "metadata": {},
   "outputs": [
    {
     "name": "stdout",
     "output_type": "stream",
     "text": [
      "Theta min: \n",
      " [1.45794027 4.97103861 1.02581164]\n",
      "Cost min: 0.256\n"
     ]
    }
   ],
   "source": [
    "theta = np.zeros(n+1)\n",
    "X_norm = featureNormalize(X)\n",
    "Xtil = np.c_[np.ones(m), X_norm]\n",
    "theta_min, J_min = newtonOptimize(Xtil, y, theta, max_iter=150)\n",
    "print('Theta min: \\n', theta_min)\n",
    "print('Cost min: %.3f' % J_min)"
   ]
  },
  {
   "cell_type": "code",
   "execution_count": 31,
   "id": "c758aedf",
   "metadata": {},
   "outputs": [
    {
     "name": "stdout",
     "output_type": "stream",
     "text": [
      "Accuracy: 507 / 569 = 89.1[%]\n"
     ]
    }
   ],
   "source": [
    "y_predict = predict(Xtil, theta_min)\n",
    "n_hits = (y == y_predict).sum()\n",
    "print(\"Accuracy: %d / %d = %.1f[%%]\" % (n_hits, m, n_hits/m*100))"
   ]
  },
  {
   "cell_type": "markdown",
   "id": "97bbc49f",
   "metadata": {},
   "source": [
    "## Advanced Optimize"
   ]
  },
  {
   "cell_type": "code",
   "execution_count": 32,
   "id": "e99cd4ea",
   "metadata": {},
   "outputs": [
    {
     "ename": "NameError",
     "evalue": "name 'minimize' is not defined",
     "output_type": "error",
     "traceback": [
      "\u001b[0;31m---------------------------------------------------------------------------\u001b[0m",
      "\u001b[0;31mNameError\u001b[0m                                 Traceback (most recent call last)",
      "\u001b[0;32m/var/folders/_3/z_6xxvm106j1hts2fh46y2d40000gn/T/ipykernel_52541/3626565515.py\u001b[0m in \u001b[0;36m<module>\u001b[0;34m\u001b[0m\n\u001b[1;32m      2\u001b[0m \u001b[0mX_norm\u001b[0m \u001b[0;34m=\u001b[0m \u001b[0mfeatureNormalize\u001b[0m\u001b[0;34m(\u001b[0m\u001b[0mX\u001b[0m\u001b[0;34m)\u001b[0m\u001b[0;34m\u001b[0m\u001b[0;34m\u001b[0m\u001b[0m\n\u001b[1;32m      3\u001b[0m \u001b[0mXtil\u001b[0m \u001b[0;34m=\u001b[0m \u001b[0mnp\u001b[0m\u001b[0;34m.\u001b[0m\u001b[0mc_\u001b[0m\u001b[0;34m[\u001b[0m\u001b[0mnp\u001b[0m\u001b[0;34m.\u001b[0m\u001b[0mones\u001b[0m\u001b[0;34m(\u001b[0m\u001b[0mm\u001b[0m\u001b[0;34m)\u001b[0m\u001b[0;34m,\u001b[0m \u001b[0mX_norm\u001b[0m\u001b[0;34m]\u001b[0m\u001b[0;34m\u001b[0m\u001b[0;34m\u001b[0m\u001b[0m\n\u001b[0;32m----> 4\u001b[0;31m \u001b[0mtheta_min\u001b[0m \u001b[0;34m=\u001b[0m \u001b[0mminimize\u001b[0m\u001b[0;34m(\u001b[0m\u001b[0mlrCostFunctionOpt\u001b[0m\u001b[0;34m,\u001b[0m \u001b[0mtheta\u001b[0m\u001b[0;34m,\u001b[0m \u001b[0margs\u001b[0m\u001b[0;34m=\u001b[0m\u001b[0;34m(\u001b[0m\u001b[0mXtil\u001b[0m\u001b[0;34m,\u001b[0m \u001b[0my\u001b[0m\u001b[0;34m)\u001b[0m\u001b[0;34m)\u001b[0m\u001b[0;34m.\u001b[0m\u001b[0mx\u001b[0m\u001b[0;34m\u001b[0m\u001b[0;34m\u001b[0m\u001b[0m\n\u001b[0m",
      "\u001b[0;31mNameError\u001b[0m: name 'minimize' is not defined"
     ]
    }
   ],
   "source": [
    "theta = np.zeros(n+1)\n",
    "X_norm = featureNormalize(X)\n",
    "Xtil = np.c_[np.ones(m), X_norm]\n",
    "theta_min = minimize(lrCostFunctionOpt, theta, args=(Xtil, y)).x"
   ]
  },
  {
   "cell_type": "code",
   "execution_count": 33,
   "id": "321c396e",
   "metadata": {},
   "outputs": [
    {
     "name": "stdout",
     "output_type": "stream",
     "text": [
      "Accuracy: 507 / 569 = 89.1[%]\n"
     ]
    }
   ],
   "source": [
    "y_predict = predict(Xtil, theta_min)\n",
    "n_hits = (y == y_predict).sum()\n",
    "print(\"Accuracy: %d / %d = %.1f[%%]\" % (n_hits, m, n_hits/m*100))"
   ]
  }
 ],
 "metadata": {
  "kernelspec": {
   "display_name": "Python 3 (ipykernel)",
   "language": "python",
   "name": "python3"
  },
  "language_info": {
   "codemirror_mode": {
    "name": "ipython",
    "version": 3
   },
   "file_extension": ".py",
   "mimetype": "text/x-python",
   "name": "python",
   "nbconvert_exporter": "python",
   "pygments_lexer": "ipython3",
   "version": "3.8.2"
  }
 },
 "nbformat": 4,
 "nbformat_minor": 5
}
