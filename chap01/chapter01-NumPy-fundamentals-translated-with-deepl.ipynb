{
 "cells": [
  {
   "cell_type": "markdown",
   "id": "3660a66a",
   "metadata": {},
   "source": [
    "# [配列の生成](https://numpy.org/doc/stable/user/basics.creation.html)"
   ]
  },
  {
   "cell_type": "markdown",
   "id": "cb2d1373",
   "metadata": {},
   "source": [
    "## 1）Pythonの配列をNumPyの配列に変換する"
   ]
  },
  {
   "cell_type": "markdown",
   "id": "cf52811c",
   "metadata": {},
   "source": [
    "NumPyの配列は、リストやタプルといったPythonの配列を使って定義することができます。リストとタプルはそれぞれ[...]と(...)を使って定義されます。リストとタプルは、ndarrayの作成を定義することができます。"
   ]
  },
  {
   "cell_type": "code",
   "execution_count": 1,
   "id": "63a94acd",
   "metadata": {},
   "outputs": [],
   "source": [
    "import numpy as np"
   ]
  },
  {
   "cell_type": "markdown",
   "id": "00b6c6ca",
   "metadata": {},
   "source": [
    "- 数字のリストは1次元の配列を作成します。"
   ]
  },
  {
   "cell_type": "code",
   "execution_count": 2,
   "id": "a85382ed",
   "metadata": {},
   "outputs": [
    {
     "data": {
      "text/plain": [
       "array([1, 2, 3, 4])"
      ]
     },
     "execution_count": 2,
     "metadata": {},
     "output_type": "execute_result"
    }
   ],
   "source": [
    "a1D = np.array([1, 2, 3, 4])\n",
    "a1D"
   ]
  },
  {
   "cell_type": "markdown",
   "id": "faf2ea79",
   "metadata": {},
   "source": [
    "- リストのリストは2次元の配列を作ります。"
   ]
  },
  {
   "cell_type": "code",
   "execution_count": 3,
   "id": "372608ab",
   "metadata": {},
   "outputs": [],
   "source": [
    "a2D = np.array([[1, 2], [3, 4]])"
   ]
  },
  {
   "cell_type": "markdown",
   "id": "2c80b2f5",
   "metadata": {},
   "source": [
    "- さらにリストを入れ子にすると、より高次元の配列になります。一般的に、NumPyではあらゆる配列オブジェクトをndarrayと呼ぶ。"
   ]
  },
  {
   "cell_type": "code",
   "execution_count": 4,
   "id": "30287bac",
   "metadata": {},
   "outputs": [
    {
     "data": {
      "text/plain": [
       "array([[[1, 2],\n",
       "        [3, 4]],\n",
       "\n",
       "       [[5, 6],\n",
       "        [7, 8]]])"
      ]
     },
     "execution_count": 4,
     "metadata": {},
     "output_type": "execute_result"
    }
   ],
   "source": [
    "a3D = np.array([[[1, 2], [3, 4]], [[5, 6], [7, 8]]])\n",
    "a3D"
   ]
  },
  {
   "cell_type": "markdown",
   "id": "29eecb75",
   "metadata": {},
   "source": [
    "numpy.array を使用して新しい配列を定義する際には、配列の要素の dtype を考慮する必要があり、これは明示的に指定できます。この機能により，基礎となるデータ構造や，C/C++ 関数での要素の扱い方をより詳細に制御することができます．dtype の代入に注意しないと，次のような不要なオーバーフローが発生することがあります．"
   ]
  },
  {
   "cell_type": "code",
   "execution_count": 5,
   "id": "0af37472",
   "metadata": {},
   "outputs": [
    {
     "data": {
      "text/plain": [
       "array([ 127, -128, -127], dtype=int8)"
      ]
     },
     "execution_count": 5,
     "metadata": {},
     "output_type": "execute_result"
    }
   ],
   "source": [
    "a = np.array([127, 128, 129], dtype=np.int8)\n",
    "a"
   ]
  },
  {
   "cell_type": "markdown",
   "id": "611fa7f1",
   "metadata": {},
   "source": [
    "8ビットの符号付き整数は、-128から127までの整数を表します。この範囲外の整数にint8配列を代入するとオーバーフローしてしまいます。この機能はよく誤解されます。不一致のdtypesで計算を行うと、例えば、望ましくない結果になることがあります。"
   ]
  },
  {
   "cell_type": "code",
   "execution_count": 6,
   "id": "1416b0ce",
   "metadata": {},
   "outputs": [
    {
     "name": "stdout",
     "output_type": "stream",
     "text": [
      "unsigned c: [4294967293 4294967293 4294967293] uint32\n"
     ]
    }
   ],
   "source": [
    "a = np.array([2, 3, 4], dtype = np.uint32)\n",
    "b = np.array([5, 6, 7], dtype = np.uint32)\n",
    "c_unsigned32 = a - b\n",
    "print('unsigned c:', c_unsigned32, c_unsigned32.dtype)"
   ]
  },
  {
   "cell_type": "code",
   "execution_count": 7,
   "id": "ea1826fd",
   "metadata": {},
   "outputs": [
    {
     "name": "stdout",
     "output_type": "stream",
     "text": [
      "signed c: [-3 -3 -3] int64\n"
     ]
    }
   ],
   "source": [
    "c_signed32 = a - b.astype(np.int32)\n",
    "print('signed c:', c_signed32, c_signed32.dtype)"
   ]
  },
  {
   "cell_type": "markdown",
   "id": "b36002bc",
   "metadata": {},
   "source": [
    "同じdtype：uint32の2つの配列で演算を行うと、結果の配列は同じ型になることに注意してください。異なる dtype で演算を行うと、NumPy は計算に関わるすべての配列要素を満足させる新しい型を割り当てます。\n",
    "\n",
    "NumPy のデフォルトの動作は、64 ビット符号付き整数または倍精度浮動小数点数、それぞれ int64 および float で配列を作成することです。もし、配列が特定の型になることを期待しているのであれば、配列を作成する際にdtypeを指定する必要があります。"
   ]
  },
  {
   "cell_type": "markdown",
   "id": "7f7945c7",
   "metadata": {},
   "source": [
    "## 2) NumPy固有の配列作成関数"
   ]
  },
  {
   "cell_type": "markdown",
   "id": "dd903f8c",
   "metadata": {},
   "source": [
    "NumPyには、配列を作成するための40以上の組み込み関数があり、[Array creation routines](https://numpy.org/doc/stable/reference/routines.array-creation.html#routines-array-creation)に記載されています。これらの関数は、作成する配列の次元に基づいて、大きく3つのカテゴリーに分けられます。\n",
    "\n",
    "1. 1次元配列\n",
    "2. 2次元配列\n",
    "3. nd配列"
   ]
  },
  {
   "cell_type": "markdown",
   "id": "754c8087",
   "metadata": {},
   "source": [
    "### 1 - 1次元配列作成関数"
   ]
  },
  {
   "cell_type": "markdown",
   "id": "7c57d539",
   "metadata": {},
   "source": [
    "[numpy.linspace](https://numpy.org/doc/stable/reference/generated/numpy.linspace.html#numpy.linspace)や[numpy.arange](https://numpy.org/doc/stable/reference/generated/numpy.arange.html#numpy.arange)などの1次元配列作成関数は、通常、startとstopの少なくとも2つの入力を必要とします。"
   ]
  },
  {
   "cell_type": "markdown",
   "id": "094b1058",
   "metadata": {},
   "source": [
    "numpy.arangeは、値が定期的に増加する配列を作成します。完全な情報や例については、ドキュメントを確認してください。いくつかの例を示します。"
   ]
  },
  {
   "cell_type": "code",
   "execution_count": 8,
   "id": "8cb9860d",
   "metadata": {},
   "outputs": [
    {
     "data": {
      "text/plain": [
       "array([0, 1, 2, 3, 4, 5, 6, 7, 8, 9])"
      ]
     },
     "execution_count": 8,
     "metadata": {},
     "output_type": "execute_result"
    }
   ],
   "source": [
    "np.arange(10)"
   ]
  },
  {
   "cell_type": "code",
   "execution_count": 9,
   "id": "7adb0d82",
   "metadata": {},
   "outputs": [
    {
     "data": {
      "text/plain": [
       "array([2., 3., 4., 5., 6., 7., 8., 9.])"
      ]
     },
     "execution_count": 9,
     "metadata": {},
     "output_type": "execute_result"
    }
   ],
   "source": [
    "np.arange(2, 10, dtype=float)"
   ]
  },
  {
   "cell_type": "code",
   "execution_count": 10,
   "id": "c1468f96",
   "metadata": {},
   "outputs": [
    {
     "data": {
      "text/plain": [
       "array([2. , 2.1, 2.2, 2.3, 2.4, 2.5, 2.6, 2.7, 2.8, 2.9])"
      ]
     },
     "execution_count": 10,
     "metadata": {},
     "output_type": "execute_result"
    }
   ],
   "source": [
    "np.arange(2, 3, 0.1)"
   ]
  },
  {
   "cell_type": "markdown",
   "id": "7f83de41",
   "metadata": {},
   "source": [
    "注意：numpy.arangeのベストプラクティスは、整数のstart、end、step値を使用することです。2 番目の例では、dtype が定義されています。3番目の例では，ステップサイズが0.1であることを考慮して，配列はdtype=floatとなっています．丸め誤差のため、ストップ値が含まれることがあります。"
   ]
  },
  {
   "cell_type": "markdown",
   "id": "48e0bd7d",
   "metadata": {},
   "source": [
    "numpy.linspaceは、指定された数の要素を持ち、指定された開始値と終了値の間に等間隔で配置された配列を作成します。例えば、以下のようになります。"
   ]
  },
  {
   "cell_type": "code",
   "execution_count": 11,
   "id": "7f2dcb74",
   "metadata": {},
   "outputs": [
    {
     "data": {
      "text/plain": [
       "array([1. , 1.6, 2.2, 2.8, 3.4, 4. ])"
      ]
     },
     "execution_count": 11,
     "metadata": {},
     "output_type": "execute_result"
    }
   ],
   "source": [
    "np.linspace(1., 4., 6)"
   ]
  },
  {
   "cell_type": "markdown",
   "id": "d8aa577b",
   "metadata": {},
   "source": [
    "この作成関数の利点は、要素数と始点・終点を保証することです。これまでのarange(start, stop, step)ではstopという値は含まれません。"
   ]
  },
  {
   "cell_type": "markdown",
   "id": "3428676d",
   "metadata": {},
   "source": [
    "## 2 - 2次元配列作成機能"
   ]
  },
  {
   "cell_type": "markdown",
   "id": "ad6bdc14",
   "metadata": {},
   "source": [
    "[numpy.eye](https://numpy.org/doc/stable/reference/generated/numpy.eye.html#numpy.eye)、[numpy.diag](https://numpy.org/doc/stable/reference/generated/numpy.diag.html#numpy.diag)、などの2D配列作成関数は、2D配列として表される特殊な行列の特性を定義します。\n",
    "\n",
    "np.eye(n, m)は、2次元の単位行列を定義します。i=j（行インデックスと列インデックスが等しい）の要素は1、それ以外は0、というように。"
   ]
  },
  {
   "cell_type": "code",
   "execution_count": 12,
   "id": "8e88a9db",
   "metadata": {},
   "outputs": [
    {
     "data": {
      "text/plain": [
       "array([[1., 0., 0.],\n",
       "       [0., 1., 0.],\n",
       "       [0., 0., 1.]])"
      ]
     },
     "execution_count": 12,
     "metadata": {},
     "output_type": "execute_result"
    }
   ],
   "source": [
    "np.eye(3)"
   ]
  },
  {
   "cell_type": "code",
   "execution_count": 13,
   "id": "5df75199",
   "metadata": {},
   "outputs": [
    {
     "data": {
      "text/plain": [
       "array([[1., 0., 0., 0., 0.],\n",
       "       [0., 1., 0., 0., 0.],\n",
       "       [0., 0., 1., 0., 0.]])"
      ]
     },
     "execution_count": 13,
     "metadata": {},
     "output_type": "execute_result"
    }
   ],
   "source": [
    "np.eye(3, 5)"
   ]
  },
  {
   "cell_type": "markdown",
   "id": "f51ec19d",
   "metadata": {},
   "source": [
    "numpy.diagは、対角線上に値を持つ正方形の2次元配列を定義したり、2次元配列が与えられた場合、対角線上の要素のみを持つ1次元配列を返します。この2つの配列作成関数は、以下のように線形代数を行う際に役立ちます。"
   ]
  },
  {
   "cell_type": "code",
   "execution_count": 14,
   "id": "642a8605",
   "metadata": {},
   "outputs": [
    {
     "data": {
      "text/plain": [
       "array([[1, 0, 0],\n",
       "       [0, 2, 0],\n",
       "       [0, 0, 3]])"
      ]
     },
     "execution_count": 14,
     "metadata": {},
     "output_type": "execute_result"
    }
   ],
   "source": [
    "np.diag([1, 2, 3])"
   ]
  },
  {
   "cell_type": "code",
   "execution_count": 15,
   "id": "6babd6cc",
   "metadata": {},
   "outputs": [
    {
     "data": {
      "text/plain": [
       "array([[0, 1, 0, 0],\n",
       "       [0, 0, 2, 0],\n",
       "       [0, 0, 0, 3],\n",
       "       [0, 0, 0, 0]])"
      ]
     },
     "execution_count": 15,
     "metadata": {},
     "output_type": "execute_result"
    }
   ],
   "source": [
    "np.diag([1, 2, 3], 1)"
   ]
  },
  {
   "cell_type": "code",
   "execution_count": 16,
   "id": "c550835c",
   "metadata": {},
   "outputs": [
    {
     "data": {
      "text/plain": [
       "array([1, 4])"
      ]
     },
     "execution_count": 16,
     "metadata": {},
     "output_type": "execute_result"
    }
   ],
   "source": [
    "a = np.array([[1, 2], [3, 4]])\n",
    "np.diag(a)"
   ]
  },
  {
   "cell_type": "markdown",
   "id": "c449fb58",
   "metadata": {},
   "source": [
    "## 3 - 3次元配列作成機能"
   ]
  },
  {
   "cell_type": "markdown",
   "id": "998e19fc",
   "metadata": {},
   "source": [
    "ndarray 作成関数（例：[numpy.ones](https://numpy.org/doc/stable/reference/generated/numpy.ones.html#numpy.ones)、[numpy.zero](https://numpy.org/doc/stable/reference/generated/numpy.zeros.html#numpy.zeros)、[random](https://numpy.org/doc/stable/reference/random/generated/numpy.random.Generator.random.html#numpy.random.Generator.random)）は、希望する形状に基づいて配列を定義する。ndarray作成関数は、タプルまたはリストで次元数とその次元に沿った長さを指定することで、任意の次元の配列を作成できます。\n",
    "\n",
    "numpy.zerosは、指定された形状で、0の値で埋め尽くされた配列を作成します。デフォルトの dtype は float64 です。"
   ]
  },
  {
   "cell_type": "code",
   "execution_count": 17,
   "id": "6e5456ad",
   "metadata": {},
   "outputs": [
    {
     "data": {
      "text/plain": [
       "array([[0., 0., 0.],\n",
       "       [0., 0., 0.]])"
      ]
     },
     "execution_count": 17,
     "metadata": {},
     "output_type": "execute_result"
    }
   ],
   "source": [
    "np.zeros((2, 3))"
   ]
  },
  {
   "cell_type": "code",
   "execution_count": 18,
   "id": "fcf9e521",
   "metadata": {},
   "outputs": [
    {
     "data": {
      "text/plain": [
       "array([[[0., 0.],\n",
       "        [0., 0.],\n",
       "        [0., 0.]],\n",
       "\n",
       "       [[0., 0.],\n",
       "        [0., 0.],\n",
       "        [0., 0.]]])"
      ]
     },
     "execution_count": 18,
     "metadata": {},
     "output_type": "execute_result"
    }
   ],
   "source": [
    "np.zeros((2, 3, 2))"
   ]
  },
  {
   "cell_type": "markdown",
   "id": "775803bb",
   "metadata": {},
   "source": [
    "numpy.onesは、1の値で満たされた配列を作成します。その他の点ではzeroと同じです。"
   ]
  },
  {
   "cell_type": "code",
   "execution_count": 19,
   "id": "3fd293e3",
   "metadata": {},
   "outputs": [
    {
     "data": {
      "text/plain": [
       "array([[1., 1., 1.],\n",
       "       [1., 1., 1.]])"
      ]
     },
     "execution_count": 19,
     "metadata": {},
     "output_type": "execute_result"
    }
   ],
   "source": [
    "np.ones((2, 3))"
   ]
  },
  {
   "cell_type": "code",
   "execution_count": 20,
   "id": "bf766478",
   "metadata": {},
   "outputs": [
    {
     "data": {
      "text/plain": [
       "array([[[1., 1.],\n",
       "        [1., 1.],\n",
       "        [1., 1.]],\n",
       "\n",
       "       [[1., 1.],\n",
       "        [1., 1.],\n",
       "        [1., 1.]]])"
      ]
     },
     "execution_count": 20,
     "metadata": {},
     "output_type": "execute_result"
    }
   ],
   "source": [
    "np.ones((2, 3, 2))"
   ]
  },
  {
   "cell_type": "markdown",
   "id": "a190bfca",
   "metadata": {},
   "source": [
    "## 3) 既存配列の複製、結合、変異"
   ]
  },
  {
   "cell_type": "markdown",
   "id": "898023d7",
   "metadata": {},
   "source": [
    "配列を作成したら，それらの既存の配列を複製したり，結合したり，変異させたりして，新しい配列を作成することができます．配列やその要素を新しい変数に代入する際には，明示的に [numpy.copy](https://numpy.org/doc/stable/reference/generated/numpy.copy.html#numpy.copy) しなければなりません．次のような例を考えてみましょう。"
   ]
  },
  {
   "cell_type": "code",
   "execution_count": 21,
   "id": "91053270",
   "metadata": {},
   "outputs": [
    {
     "name": "stdout",
     "output_type": "stream",
     "text": [
      "a = [2 3 3 4 5 6] ; b = [2 3]\n"
     ]
    }
   ],
   "source": [
    "a = np.array([1, 2, 3, 4, 5, 6])\n",
    "b = a[:2]\n",
    "b += 1\n",
    "print('a =', a, '; b =', b)"
   ]
  },
  {
   "cell_type": "markdown",
   "id": "e80e77bb",
   "metadata": {},
   "source": [
    "この例では、新しい配列を作ったわけではありません。bに1を加えると、a[:2]に1を加えたのと同じ結果になります。これは上記の代入式ではbにaの値を渡したのではなくaのメモリ参照をbに渡したことに起因します。"
   ]
  },
  {
   "cell_type": "code",
   "execution_count": 22,
   "id": "56a62559",
   "metadata": {},
   "outputs": [
    {
     "name": "stdout",
     "output_type": "stream",
     "text": [
      "True\n",
      "id(a) = 4455430256\n",
      "id(b) = 4455430256\n"
     ]
    }
   ],
   "source": [
    "print(id(a[:2]) == id(b[:2])) \n",
    "print(\"id(a) = %s\" % id(a[:2]))\n",
    "print(\"id(b) = %s\" % id(b[:2]))"
   ]
  },
  {
   "cell_type": "markdown",
   "id": "afdb04ea",
   "metadata": {},
   "source": [
    "新しい配列を作成したい場合は、numpy.copyという配列作成ルーチンを次のように使用します。"
   ]
  },
  {
   "cell_type": "code",
   "execution_count": 23,
   "id": "3408b252",
   "metadata": {},
   "outputs": [
    {
     "name": "stdout",
     "output_type": "stream",
     "text": [
      "a = [1 2 3 4 5 6] ; b = [2 3]\n"
     ]
    }
   ],
   "source": [
    "a = np.array([1, 2, 3, 4, 5, 6])\n",
    "b = a[:2].copy()\n",
    "b += 1\n",
    "print('a =', a, '; b =', b)"
   ]
  },
  {
   "cell_type": "markdown",
   "id": "15750ba6",
   "metadata": {},
   "source": [
    "numpyでは[copyとviewという2つのオブジェクトが存在している](https://numpy.org/doc/stable/user/quickstart.html#quickstart-copies-and-views)ことを知るともう少し理解が深まるかもしれません。"
   ]
  },
  {
   "cell_type": "markdown",
   "id": "1eda4993",
   "metadata": {},
   "source": [
    "[numpy.vstack](https://numpy.org/doc/stable/reference/generated/numpy.vstack.html#numpy.vstack)，[numpy.hstack](https://numpy.org/doc/stable/reference/generated/numpy.hstack.html#numpy.hstack)，[numpy.block](https://numpy.org/doc/stable/reference/generated/numpy.block.html#numpy.block)など，既存の配列を結合するルーチンは多数あります．ここでは，blockを使って2行2列の配列を4行4列の配列に結合する例を示します．"
   ]
  },
  {
   "cell_type": "markdown",
   "id": "ec7d1dc4",
   "metadata": {},
   "source": [
    "np.vstackは行データを列方向に積み上げます。a.shape=(m1, n), b.shape=(m2, n)ならばc = np.vstack((a, b)), c.shape=((m1+m2), n)となります。"
   ]
  },
  {
   "cell_type": "code",
   "execution_count": 36,
   "id": "4519e4be",
   "metadata": {},
   "outputs": [
    {
     "name": "stdout",
     "output_type": "stream",
     "text": [
      "[[1 2 3]\n",
      " [4 5 6]]\n",
      "shape: (2, 3)\n"
     ]
    }
   ],
   "source": [
    "a = np.array([1, 2, 3])\n",
    "b = np.array([4, 5, 6])\n",
    "c = np.vstack((a,b))\n",
    "print(c)\n",
    "print(\"shape:\", c.shape)"
   ]
  },
  {
   "cell_type": "code",
   "execution_count": 37,
   "id": "6dbf68a2",
   "metadata": {},
   "outputs": [
    {
     "name": "stdout",
     "output_type": "stream",
     "text": [
      "[[1]\n",
      " [2]\n",
      " [3]\n",
      " [4]\n",
      " [5]\n",
      " [6]]\n",
      "shape: (6, 1)\n"
     ]
    }
   ],
   "source": [
    "a = np.array([[1], [2], [3]])\n",
    "b = np.array([[4], [5], [6]])\n",
    "c = np.vstack((a,b))\n",
    "print(c)\n",
    "print(\"shape:\", c.shape)"
   ]
  },
  {
   "cell_type": "markdown",
   "id": "c2aab8f6",
   "metadata": {},
   "source": [
    "np.hstackは列データを行方向に積み上げます。a.shape=(m, n1), b.shape=(m, n2)ならばc = np.hstack((a, b)), c.shape=(m, (n1+n2))"
   ]
  },
  {
   "cell_type": "code",
   "execution_count": 33,
   "id": "9599aeca",
   "metadata": {},
   "outputs": [
    {
     "data": {
      "text/plain": [
       "array([[ 1.,  1.,  1.,  0.],\n",
       "       [ 1.,  1.,  0.,  1.],\n",
       "       [ 0.,  0., -3.,  0.],\n",
       "       [ 0.,  0.,  0., -4.]])"
      ]
     },
     "execution_count": 33,
     "metadata": {},
     "output_type": "execute_result"
    }
   ],
   "source": [
    "A = np.ones((2, 2))\n",
    "B = np.eye(2, 2) # TODO\n",
    "C = np.zeros((2, 2))\n",
    "D = np.diag((-3, -4))\n",
    "np.block([[A, B],[C, D]])"
   ]
  },
  {
   "cell_type": "markdown",
   "id": "23716731",
   "metadata": {},
   "source": [
    "NumPyは、Python科学計算スタックにおける配列コンテナの基本ライブラリです。SciPy、Pandas、OpenCVを含む多くのPythonライブラリは、データ交換のための共通フォーマットとしてNumPy ndarraysを使用しており、これらのライブラリはNumPy配列を作成、操作、および操作することができます。"
   ]
  },
  {
   "cell_type": "markdown",
   "id": "68607420",
   "metadata": {},
   "source": [
    "# [インデクシング](https://numpy.org/doc/stable/user/basics.indexing.html)"
   ]
  },
  {
   "cell_type": "markdown",
   "id": "89b8e8e4",
   "metadata": {},
   "source": [
    "配列のインデックスとは、角括弧（[]）を使って配列の値にインデックスを付けることです。インデックス作成には多くのオプションがあり、NumPyのインデックス作成に大きな力を与えていますが、力には複雑さと混乱の可能性が伴います。このセクションでは、インデックス作成に関する様々なオプションと問題点の概要を説明します。単一要素のインデックス作成は別として、これらのオプションのほとんどの詳細は、関連するセクションで見つけることができます。"
   ]
  },
  {
   "cell_type": "markdown",
   "id": "57ffcd8d",
   "metadata": {},
   "source": [
    "## 代入と参照の比較"
   ]
  },
  {
   "cell_type": "markdown",
   "id": "9a102374",
   "metadata": {},
   "source": [
    "以下の例では、配列内のデータを参照する際にインデックスを使用しています。この例は、配列に代入する場合も同様に動作します。具体的な例や代入の仕組みについての説明は、最後のセクションをご覧ください。"
   ]
  },
  {
   "cell_type": "markdown",
   "id": "79ace66a",
   "metadata": {},
   "source": [
    "## 単一要素のインデクシング"
   ]
  },
  {
   "cell_type": "markdown",
   "id": "72797fdb",
   "metadata": {},
   "source": [
    "1次元配列に対する単一要素のインデクシングについては期待通りです。他の標準的なPython配列と全く同じように動作します。これは0ベースで、配列の最後からのインデックスを作成するために負のインデックスを受け入れます。"
   ]
  },
  {
   "cell_type": "code",
   "execution_count": null,
   "id": "d774a694",
   "metadata": {},
   "outputs": [],
   "source": [
    "x = np.arange(10)\n",
    "x"
   ]
  },
  {
   "cell_type": "code",
   "execution_count": null,
   "id": "28d3ca7e",
   "metadata": {},
   "outputs": [],
   "source": [
    "x[2]"
   ]
  },
  {
   "cell_type": "code",
   "execution_count": null,
   "id": "8f14e827",
   "metadata": {},
   "outputs": [],
   "source": [
    "x[-2]"
   ]
  },
  {
   "cell_type": "markdown",
   "id": "4c6167dc",
   "metadata": {},
   "source": [
    "リストやタプルとは異なり、NumPyの配列は多次元配列に対する多次元インデックスをサポートしています。つまり、各次元のインデックスをそれぞれの角括弧に分ける必要はありません。"
   ]
  },
  {
   "cell_type": "code",
   "execution_count": null,
   "id": "c63b834e",
   "metadata": {},
   "outputs": [],
   "source": [
    "x.shape = (2,5)\n",
    "x"
   ]
  },
  {
   "cell_type": "code",
   "execution_count": null,
   "id": "ceed5798",
   "metadata": {},
   "outputs": [],
   "source": [
    "x[1, 3]"
   ]
  },
  {
   "cell_type": "code",
   "execution_count": null,
   "id": "81848fdd",
   "metadata": {},
   "outputs": [],
   "source": [
    "x[1, -1]"
   ]
  },
  {
   "cell_type": "markdown",
   "id": "52bb97ac",
   "metadata": {},
   "source": [
    "多次元配列に次元数よりも少ないインデックスを付けると、一次元配列になることに注意してください。例えば、以下のようになります。"
   ]
  },
  {
   "cell_type": "code",
   "execution_count": null,
   "id": "3fa5491f",
   "metadata": {},
   "outputs": [],
   "source": [
    "x[0]"
   ]
  },
  {
   "cell_type": "markdown",
   "id": "efaa0ca0",
   "metadata": {},
   "source": [
    "つまり，インデックスが指定されるたびに，残りの次元に対応する配列が選択されることになる。上記の例では，0を選択すると，長さ5の残りの次元が指定されていないことになり，その次元とサイズの配列が返されることになります。ここで注意しなければならないのは，返される配列は元の配列のコピーではなく，元の配列と同じ値をメモリ上で指し示しているということです．この場合、最初の位置（0）にある1次元の配列が返されます。つまり，返される配列に1つのインデックスを使用すると，1つの要素が返されることになります。"
   ]
  },
  {
   "cell_type": "code",
   "execution_count": null,
   "id": "fe91c9b1",
   "metadata": {},
   "outputs": [],
   "source": [
    "x[0][2]"
   ]
  },
  {
   "cell_type": "markdown",
   "id": "79ba8f5d",
   "metadata": {},
   "source": [
    "つまり、x[0,2] = x[0][2]となりますが、2番目のケースは、最初のインデックスの後に新しい一時的な配列が作成され、その後2でインデックスされるため、より非効率的です。\n",
    "\n",
    "IDLやFortranのメモリオーダーに慣れている人には、インデックスに関連する注意が必要です。NumPyはCオーダーのインデックスを使用します。これは、FortranやIDLのように最初のインデックスがメモリ内の最も急速に変化する場所を表すのではなく、最後のインデックスが通常最も急速に変化するメモリの場所を表すことを意味します。この違いは、混乱を招く大きな可能性があります。（何を言っているんでしょうかね）\n"
   ]
  },
  {
   "cell_type": "markdown",
   "id": "0ea62491",
   "metadata": {},
   "source": [
    "## その他のインデックス作成オプション"
   ]
  },
  {
   "cell_type": "markdown",
   "id": "2707a0be",
   "metadata": {},
   "source": [
    "配列をスライスしたり，ストライドしたりして，同じ次元数で，元の配列とは異なるサイズの配列を取り出すことができます．スライスやストライドは，リストやタプルの場合と全く同じように動作しますが，多次元にも適用できることが特徴です．いくつかの例を見るとよくわかります。"
   ]
  },
  {
   "cell_type": "code",
   "execution_count": null,
   "id": "b4b7884c",
   "metadata": {},
   "outputs": [],
   "source": [
    "x = np.arange(10)\n",
    "x"
   ]
  },
  {
   "cell_type": "code",
   "execution_count": null,
   "id": "ecc713cb",
   "metadata": {},
   "outputs": [],
   "source": [
    "x[2:5]"
   ]
  },
  {
   "cell_type": "code",
   "execution_count": null,
   "id": "ee43a859",
   "metadata": {},
   "outputs": [],
   "source": [
    "x[:-7]"
   ]
  },
  {
   "cell_type": "code",
   "execution_count": null,
   "id": "90f6ff2d",
   "metadata": {},
   "outputs": [],
   "source": [
    "x[1:7:2]"
   ]
  },
  {
   "cell_type": "code",
   "execution_count": null,
   "id": "fe52223b",
   "metadata": {},
   "outputs": [],
   "source": [
    "y = np.arange(35).reshape(5, 7)\n",
    "y[1:5:2, ::3]"
   ]
  },
  {
   "cell_type": "markdown",
   "id": "cd781610",
   "metadata": {},
   "source": [
    "配列のスライスは，配列の内部データをコピーするのではなく，元のデータの新しいビューを生成するだけであることに注意してください．これは，リストやタプルのスライスとは異なります．元のデータが不要になった場合は，明示的に copy() を行うことをお勧めします．\n",
    "\n",
    "配列から新しい配列に値のリストを選択する目的で，配列に他の配列のインデックスを付けることができます．これには 2 つの方法があります。1つは，1つ以上のインデックス値の配列を使用します。もう1つは，選択する値を示す適切な形状のブーリアン配列を与える方法です．インデックス配列は非常に強力なツールで、配列内の個々の要素に対するループ処理を避けることができるため、パフォーマンスが大幅に向上します。\n",
    "\n",
    "また、特殊な機能を利用して、配列の次元数をインデックスによって効果的に増やすことができ、式や特定の関数で使用するために必要な形状の配列を得ることができます。"
   ]
  },
  {
   "cell_type": "markdown",
   "id": "1422956c",
   "metadata": {},
   "source": [
    "## 配列のインデックス"
   ]
  },
  {
   "cell_type": "markdown",
   "id": "b6ab57a3",
   "metadata": {},
   "source": [
    "NumPyの配列は、他の配列（または、タプルを除いたリストなど、配列に変換可能な他のシーケンス状のオブジェクト）でインデックスを付けることができます。インデックス配列の用途は、単純でわかりやすいものから、複雑で理解しにくいものまでさまざまです。どのようなインデックス配列であっても、返されるのは元のデータのコピーであり、スライスで得られるようなビューではありません。\n",
    "\n",
    "インデックス配列は，整数型でなければなりません。配列内の各値は，インデックスの代わりに配列内のどの値を使用するかを示します。例を挙げると"
   ]
  },
  {
   "cell_type": "code",
   "execution_count": null,
   "id": "c14ad2f1",
   "metadata": {},
   "outputs": [],
   "source": [
    "x = np.arange(10,1,-1)\n",
    "x"
   ]
  },
  {
   "cell_type": "code",
   "execution_count": null,
   "id": "719c9e87",
   "metadata": {},
   "outputs": [],
   "source": [
    "x[np.array([3, 3, 1, 8])]"
   ]
  },
  {
   "cell_type": "markdown",
   "id": "1fc5d3e6",
   "metadata": {},
   "source": [
    "値3，3，1，8で構成されるインデックス配列は，それに対応して長さ4（インデックス配列と同じ）の配列を作成し，各インデックスはインデックス配列が持つ値で置換されます。\n",
    "\n",
    "負の値も許可されており，単一のインデックスやスライスの場合と同様に動作します。"
   ]
  },
  {
   "cell_type": "markdown",
   "id": "0ea6db62",
   "metadata": {},
   "source": [
    "## 構造的なインデックス作成ツール"
   ]
  },
  {
   "cell_type": "markdown",
   "id": "527c120d",
   "metadata": {},
   "source": [
    "配列の形状を式や代入で簡単に一致させるために、np.newaxisオブジェクトを配列のインデックス内で使用して、サイズが1の新しい次元を追加することができます。"
   ]
  },
  {
   "cell_type": "code",
   "execution_count": null,
   "id": "2d86bfc3",
   "metadata": {},
   "outputs": [],
   "source": [
    "y.shape"
   ]
  },
  {
   "cell_type": "code",
   "execution_count": null,
   "id": "05f26030",
   "metadata": {},
   "outputs": [],
   "source": [
    "y[:,np.newaxis,:].shape"
   ]
  },
  {
   "cell_type": "code",
   "execution_count": null,
   "id": "0102eaaf",
   "metadata": {},
   "outputs": [],
   "source": [
    "y"
   ]
  },
  {
   "cell_type": "code",
   "execution_count": null,
   "id": "a368fdf6",
   "metadata": {},
   "outputs": [],
   "source": [
    "y[:,np.newaxis,:]"
   ]
  },
  {
   "cell_type": "markdown",
   "id": "65d03768",
   "metadata": {},
   "source": [
    "配列には新しい要素はなく，単に次元が大きくなっただけであることに注意してください．これは，他の方法では明示的な再形成操作が必要となるような方法で2つの配列を結合するのに便利です．例えば "
   ]
  },
  {
   "cell_type": "code",
   "execution_count": null,
   "id": "6f5bb660",
   "metadata": {},
   "outputs": [],
   "source": [
    "x = np.arange(5)\n",
    "x[:,np.newaxis] + x[np.newaxis,:]"
   ]
  },
  {
   "cell_type": "code",
   "execution_count": null,
   "id": "d1c01a5c",
   "metadata": {},
   "outputs": [],
   "source": [
    "x[:,np.newaxis]"
   ]
  },
  {
   "cell_type": "code",
   "execution_count": null,
   "id": "f585c898",
   "metadata": {},
   "outputs": [],
   "source": [
    "x[np.newaxis,:]"
   ]
  },
  {
   "cell_type": "markdown",
   "id": "e872a20d",
   "metadata": {},
   "source": [
    "# ブロードキャスト"
   ]
  },
  {
   "cell_type": "markdown",
   "id": "bc3485ae",
   "metadata": {},
   "source": [
    "ブロードキャスティングとは、numpyが算術演算時に形状の異なる配列をどのように扱うかを表す用語です。一定の制約のもとで，小さい方の配列が大きい方の配列に「ブロードキャスト」され，両者の形状が一致するようになります．ブロードキャストは，配列の操作をベクトル化する手段を提供し，PythonではなくC言語でループ処理が行われるようにします．ブロードキャスティングは、データの不要なコピーを作成することなく行うことができ、通常、効率的なアルゴリズムの実装につながります。しかし、ブロードキャスティングが悪いアイデアである場合もあります。それは、メモリの非効率な使用につながり、計算が遅くなるからです。（どっちなんだよ、と言いたくなりますね）\n",
    "\n",
    "NumPyの演算は、通常、配列のペアに対して、要素ごとに行われます。最も単純なケースでは，次の例のように，2つの配列はまったく同じ形をしていなければなりません．"
   ]
  },
  {
   "cell_type": "code",
   "execution_count": null,
   "id": "5db778ce",
   "metadata": {},
   "outputs": [],
   "source": [
    "a = np.array([1.0, 2.0, 3.0])\n",
    "b = np.array([2.0, 2.0, 2.0])\n",
    "a * b"
   ]
  },
  {
   "cell_type": "markdown",
   "id": "0f188c53",
   "metadata": {},
   "source": [
    "NumPyのブロードキャスティング・ルールは、配列の形状が特定の制約を満たす場合に、この制約を緩和します。最も簡単なブロードキャスティングの例は、配列とスカラ値を組み合わせて演算する場合です。"
   ]
  },
  {
   "cell_type": "code",
   "execution_count": null,
   "id": "ebe882e3",
   "metadata": {},
   "outputs": [],
   "source": [
    "a = np.array([1.0, 2.0, 3.0])\n",
    "b = 2.0\n",
    "a*b"
   ]
  },
  {
   "cell_type": "markdown",
   "id": "7003714a",
   "metadata": {},
   "source": [
    "この結果は，bが配列であった先ほどの例と同じです．スカラーbは，算術演算中に引き伸ばされて，aと同じ形の配列になったと考えることができます．bの新しい要素は，元のスカラーの単なるコピーです．ストレッチの例えはあくまでも概念的なものです。NumPyは賢いので、実際にはコピーを作らずに元のスカラ値を使用し、ブロードキャストの操作ができるだけメモリと計算の効率が良くなるようにしています。\n",
    "\n",
    "2番目の例のコードは、1番目の例のコードよりも効率的である。なぜなら、ブロードキャスティングによって乗算中に移動するメモリが少ないからである（bは配列ではなくスカラである）。"
   ]
  },
  {
   "cell_type": "markdown",
   "id": "e0093ed2",
   "metadata": {},
   "source": [
    "## ブロードキャストの一般則"
   ]
  },
  {
   "cell_type": "markdown",
   "id": "7e0e51bc",
   "metadata": {},
   "source": [
    "2つの配列を操作するとき、NumPyはそれらの形状を要素ごとに比較します。後続の（つまり右端の）次元から始めて、左に向かって作業していきます。2つの次元が一致するのは\n",
    "\n",
    "1. それらが等しい、または\n",
    "2. どちらかが1の場合\n",
    "\n",
    "これらの条件が満たされない場合、ValueError: operands could not be broadcast together 例外が投げられ、配列の形状に互換性がないことが示されます。結果として得られる配列のサイズは、入力の各軸に沿って1ではないサイズとなります。\n",
    "\n",
    "配列の次元数は同じである必要はありません。例えば、RGB値の256x256x3の配列があり、画像の各色を異なる値でスケーリングしたい場合、3つの値を持つ1次元の配列に画像を乗じることができます。これらの配列の後続軸のサイズをブロードキャスト規則に従って並べると、互換性があることがわかる。"
   ]
  },
  {
   "cell_type": "markdown",
   "id": "ee97edb5",
   "metadata": {},
   "source": [
    "```\n",
    "Image  (3d array): 256 x 256 x 3\n",
    "Scale  (1d array):             3\n",
    "Result (3d array): 256 x 256 x 3\n",
    "```"
   ]
  },
  {
   "cell_type": "markdown",
   "id": "a0ba87e9",
   "metadata": {},
   "source": [
    "比較する次元のどちらかが1の場合は、もう一方の寸法を使用する。言い換えれば、サイズが1の次元は、もう一方に合わせて引き伸ばされるか、「コピー」されます。\n",
    "\n",
    "次の例では，A配列とB配列の両方に長さが1の軸があり，それがブロードキャスト操作中に大きなサイズに拡張されます．"
   ]
  },
  {
   "cell_type": "markdown",
   "id": "f2342925",
   "metadata": {},
   "source": [
    "```\n",
    "A      (4d array):  8 x 1 x 6 x 1\n",
    "B      (3d array):      7 x 1 x 5\n",
    "Result (4d array):  8 x 7 x 6 x 5\n",
    "```"
   ]
  },
  {
   "cell_type": "markdown",
   "id": "5b2549e5",
   "metadata": {},
   "source": [
    "更なる例については[こちら](https://numpy.org/doc/stable/user/basics.broadcasting.html)を参照されたい。"
   ]
  },
  {
   "cell_type": "markdown",
   "id": "c5faef89",
   "metadata": {},
   "source": [
    "# 行列の演算"
   ]
  },
  {
   "cell_type": "markdown",
   "id": "dd0c6b75",
   "metadata": {},
   "source": [
    "## [内積](https://numpy.org/doc/stable/reference/generated/numpy.dot.html?highlight=dot#numpy.dot)"
   ]
  },
  {
   "cell_type": "markdown",
   "id": "332c5a9f",
   "metadata": {},
   "source": [
    "$\\sum_{i=1}^{n}x_iy_i = \\boldsymbol{x}^T\\boldsymbol{y}$ : ```np.dot(x, y)```"
   ]
  },
  {
   "cell_type": "code",
   "execution_count": null,
   "id": "8007bf22",
   "metadata": {},
   "outputs": [],
   "source": [
    "np.dot(3, 4)"
   ]
  },
  {
   "cell_type": "code",
   "execution_count": null,
   "id": "90d70b81",
   "metadata": {},
   "outputs": [],
   "source": [
    "a = np.array([[1, 0], [0, 1]])\n",
    "b = np.array([[4, 1], [2, 2]])\n",
    "np.dot(a, b)"
   ]
  },
  {
   "cell_type": "code",
   "execution_count": null,
   "id": "b544c0fe",
   "metadata": {},
   "outputs": [],
   "source": [
    "a.dot(b)"
   ]
  },
  {
   "cell_type": "code",
   "execution_count": null,
   "id": "4c044e96",
   "metadata": {},
   "outputs": [],
   "source": [
    "a@b"
   ]
  },
  {
   "cell_type": "code",
   "execution_count": null,
   "id": "af12c5ca",
   "metadata": {},
   "outputs": [],
   "source": [
    "a = np.arange(9).reshape(3, 3)\n",
    "a"
   ]
  },
  {
   "cell_type": "code",
   "execution_count": null,
   "id": "4a20cd29",
   "metadata": {},
   "outputs": [],
   "source": [
    "b = np.arange(1, 4)\n",
    "b"
   ]
  },
  {
   "cell_type": "code",
   "execution_count": null,
   "id": "55843f2d",
   "metadata": {},
   "outputs": [],
   "source": [
    "np.dot(a, b)"
   ]
  },
  {
   "cell_type": "code",
   "execution_count": null,
   "id": "a2a82b07",
   "metadata": {},
   "outputs": [],
   "source": [
    "np.dot(b, a)"
   ]
  },
  {
   "cell_type": "code",
   "execution_count": null,
   "id": "6e3cfc69",
   "metadata": {},
   "outputs": [],
   "source": [
    "c = b.reshape(-1, 1)\n",
    "c"
   ]
  },
  {
   "cell_type": "code",
   "execution_count": null,
   "id": "d76ab74e",
   "metadata": {},
   "outputs": [],
   "source": [
    "np.dot(a, c)"
   ]
  },
  {
   "cell_type": "code",
   "execution_count": null,
   "id": "42926264",
   "metadata": {},
   "outputs": [],
   "source": [
    "np.dot(c, a) # エラーでok"
   ]
  },
  {
   "cell_type": "markdown",
   "id": "4b07ee10",
   "metadata": {},
   "source": [
    "## 和"
   ]
  },
  {
   "cell_type": "code",
   "execution_count": null,
   "id": "0aa31ddc",
   "metadata": {},
   "outputs": [],
   "source": [
    "np.sum([0.5, 1.5])"
   ]
  },
  {
   "cell_type": "code",
   "execution_count": null,
   "id": "cd6ca505",
   "metadata": {},
   "outputs": [],
   "source": [
    "np.sum([0.5, 0.7, 0.2, 1.5], dtype=np.int32)"
   ]
  },
  {
   "cell_type": "code",
   "execution_count": null,
   "id": "cf9fc879",
   "metadata": {},
   "outputs": [],
   "source": [
    "np.sum([[0, 1], [0, 5]])"
   ]
  },
  {
   "cell_type": "code",
   "execution_count": null,
   "id": "adc6eb4d",
   "metadata": {},
   "outputs": [],
   "source": [
    "np.sum([[0, 1], [0, 5]], axis=0)"
   ]
  },
  {
   "cell_type": "code",
   "execution_count": null,
   "id": "dae8666d",
   "metadata": {},
   "outputs": [],
   "source": [
    "np.sum([[0, 1], [0, 5]], axis=1)"
   ]
  }
 ],
 "metadata": {
  "kernelspec": {
   "display_name": "Python 3 (ipykernel)",
   "language": "python",
   "name": "python3"
  },
  "language_info": {
   "codemirror_mode": {
    "name": "ipython",
    "version": 3
   },
   "file_extension": ".py",
   "mimetype": "text/x-python",
   "name": "python",
   "nbconvert_exporter": "python",
   "pygments_lexer": "ipython3",
   "version": "3.8.2"
  }
 },
 "nbformat": 4,
 "nbformat_minor": 5
}
